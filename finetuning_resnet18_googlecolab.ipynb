{
  "nbformat": 4,
  "nbformat_minor": 0,
  "metadata": {
    "colab": {
      "name": "finetuning-resnet18-googlecolab.ipynb",
      "provenance": [],
      "collapsed_sections": [],
      "authorship_tag": "ABX9TyMz7QZfBX/e437QraglgMg+",
      "include_colab_link": true
    },
    "kernelspec": {
      "name": "python3",
      "display_name": "Python 3"
    },
    "language_info": {
      "name": "python"
    },
    "widgets": {
      "application/vnd.jupyter.widget-state+json": {
        "81fba8d24d4a48e98d9b732f8e3bae61": {
          "model_module": "@jupyter-widgets/controls",
          "model_name": "HBoxModel",
          "model_module_version": "1.5.0",
          "state": {
            "_dom_classes": [],
            "_model_module": "@jupyter-widgets/controls",
            "_model_module_version": "1.5.0",
            "_model_name": "HBoxModel",
            "_view_count": null,
            "_view_module": "@jupyter-widgets/controls",
            "_view_module_version": "1.5.0",
            "_view_name": "HBoxView",
            "box_style": "",
            "children": [
              "IPY_MODEL_83d5e5bd28dc40fe8736cd0e8c0b1349",
              "IPY_MODEL_bb0c7ee82c9544cba9fb73c6a614eb19",
              "IPY_MODEL_dcb43041d707456db77217f2a031521f"
            ],
            "layout": "IPY_MODEL_54e7c3f593204f99a8c7dd453abf083f"
          }
        },
        "83d5e5bd28dc40fe8736cd0e8c0b1349": {
          "model_module": "@jupyter-widgets/controls",
          "model_name": "HTMLModel",
          "model_module_version": "1.5.0",
          "state": {
            "_dom_classes": [],
            "_model_module": "@jupyter-widgets/controls",
            "_model_module_version": "1.5.0",
            "_model_name": "HTMLModel",
            "_view_count": null,
            "_view_module": "@jupyter-widgets/controls",
            "_view_module_version": "1.5.0",
            "_view_name": "HTMLView",
            "description": "",
            "description_tooltip": null,
            "layout": "IPY_MODEL_74b2e859a37f46f68c4fb145b91172c2",
            "placeholder": "​",
            "style": "IPY_MODEL_1d12bdd47b0b4897a8dbd069bc9327b3",
            "value": ""
          }
        },
        "bb0c7ee82c9544cba9fb73c6a614eb19": {
          "model_module": "@jupyter-widgets/controls",
          "model_name": "FloatProgressModel",
          "model_module_version": "1.5.0",
          "state": {
            "_dom_classes": [],
            "_model_module": "@jupyter-widgets/controls",
            "_model_module_version": "1.5.0",
            "_model_name": "FloatProgressModel",
            "_view_count": null,
            "_view_module": "@jupyter-widgets/controls",
            "_view_module_version": "1.5.0",
            "_view_name": "ProgressView",
            "bar_style": "success",
            "description": "",
            "description_tooltip": null,
            "layout": "IPY_MODEL_1cfd8a0c646c43728d0b50bcb72fe715",
            "max": 170498071,
            "min": 0,
            "orientation": "horizontal",
            "style": "IPY_MODEL_faa030f323064eb68390fe271b628c47",
            "value": 170498071
          }
        },
        "dcb43041d707456db77217f2a031521f": {
          "model_module": "@jupyter-widgets/controls",
          "model_name": "HTMLModel",
          "model_module_version": "1.5.0",
          "state": {
            "_dom_classes": [],
            "_model_module": "@jupyter-widgets/controls",
            "_model_module_version": "1.5.0",
            "_model_name": "HTMLModel",
            "_view_count": null,
            "_view_module": "@jupyter-widgets/controls",
            "_view_module_version": "1.5.0",
            "_view_name": "HTMLView",
            "description": "",
            "description_tooltip": null,
            "layout": "IPY_MODEL_6f2dae00968b4f26bc6660c671f88a46",
            "placeholder": "​",
            "style": "IPY_MODEL_e2be912d8df94212ba32348fb40a9616",
            "value": " 170499072/? [00:01&lt;00:00, 98274343.17it/s]"
          }
        },
        "54e7c3f593204f99a8c7dd453abf083f": {
          "model_module": "@jupyter-widgets/base",
          "model_name": "LayoutModel",
          "model_module_version": "1.2.0",
          "state": {
            "_model_module": "@jupyter-widgets/base",
            "_model_module_version": "1.2.0",
            "_model_name": "LayoutModel",
            "_view_count": null,
            "_view_module": "@jupyter-widgets/base",
            "_view_module_version": "1.2.0",
            "_view_name": "LayoutView",
            "align_content": null,
            "align_items": null,
            "align_self": null,
            "border": null,
            "bottom": null,
            "display": null,
            "flex": null,
            "flex_flow": null,
            "grid_area": null,
            "grid_auto_columns": null,
            "grid_auto_flow": null,
            "grid_auto_rows": null,
            "grid_column": null,
            "grid_gap": null,
            "grid_row": null,
            "grid_template_areas": null,
            "grid_template_columns": null,
            "grid_template_rows": null,
            "height": null,
            "justify_content": null,
            "justify_items": null,
            "left": null,
            "margin": null,
            "max_height": null,
            "max_width": null,
            "min_height": null,
            "min_width": null,
            "object_fit": null,
            "object_position": null,
            "order": null,
            "overflow": null,
            "overflow_x": null,
            "overflow_y": null,
            "padding": null,
            "right": null,
            "top": null,
            "visibility": null,
            "width": null
          }
        },
        "74b2e859a37f46f68c4fb145b91172c2": {
          "model_module": "@jupyter-widgets/base",
          "model_name": "LayoutModel",
          "model_module_version": "1.2.0",
          "state": {
            "_model_module": "@jupyter-widgets/base",
            "_model_module_version": "1.2.0",
            "_model_name": "LayoutModel",
            "_view_count": null,
            "_view_module": "@jupyter-widgets/base",
            "_view_module_version": "1.2.0",
            "_view_name": "LayoutView",
            "align_content": null,
            "align_items": null,
            "align_self": null,
            "border": null,
            "bottom": null,
            "display": null,
            "flex": null,
            "flex_flow": null,
            "grid_area": null,
            "grid_auto_columns": null,
            "grid_auto_flow": null,
            "grid_auto_rows": null,
            "grid_column": null,
            "grid_gap": null,
            "grid_row": null,
            "grid_template_areas": null,
            "grid_template_columns": null,
            "grid_template_rows": null,
            "height": null,
            "justify_content": null,
            "justify_items": null,
            "left": null,
            "margin": null,
            "max_height": null,
            "max_width": null,
            "min_height": null,
            "min_width": null,
            "object_fit": null,
            "object_position": null,
            "order": null,
            "overflow": null,
            "overflow_x": null,
            "overflow_y": null,
            "padding": null,
            "right": null,
            "top": null,
            "visibility": null,
            "width": null
          }
        },
        "1d12bdd47b0b4897a8dbd069bc9327b3": {
          "model_module": "@jupyter-widgets/controls",
          "model_name": "DescriptionStyleModel",
          "model_module_version": "1.5.0",
          "state": {
            "_model_module": "@jupyter-widgets/controls",
            "_model_module_version": "1.5.0",
            "_model_name": "DescriptionStyleModel",
            "_view_count": null,
            "_view_module": "@jupyter-widgets/base",
            "_view_module_version": "1.2.0",
            "_view_name": "StyleView",
            "description_width": ""
          }
        },
        "1cfd8a0c646c43728d0b50bcb72fe715": {
          "model_module": "@jupyter-widgets/base",
          "model_name": "LayoutModel",
          "model_module_version": "1.2.0",
          "state": {
            "_model_module": "@jupyter-widgets/base",
            "_model_module_version": "1.2.0",
            "_model_name": "LayoutModel",
            "_view_count": null,
            "_view_module": "@jupyter-widgets/base",
            "_view_module_version": "1.2.0",
            "_view_name": "LayoutView",
            "align_content": null,
            "align_items": null,
            "align_self": null,
            "border": null,
            "bottom": null,
            "display": null,
            "flex": null,
            "flex_flow": null,
            "grid_area": null,
            "grid_auto_columns": null,
            "grid_auto_flow": null,
            "grid_auto_rows": null,
            "grid_column": null,
            "grid_gap": null,
            "grid_row": null,
            "grid_template_areas": null,
            "grid_template_columns": null,
            "grid_template_rows": null,
            "height": null,
            "justify_content": null,
            "justify_items": null,
            "left": null,
            "margin": null,
            "max_height": null,
            "max_width": null,
            "min_height": null,
            "min_width": null,
            "object_fit": null,
            "object_position": null,
            "order": null,
            "overflow": null,
            "overflow_x": null,
            "overflow_y": null,
            "padding": null,
            "right": null,
            "top": null,
            "visibility": null,
            "width": null
          }
        },
        "faa030f323064eb68390fe271b628c47": {
          "model_module": "@jupyter-widgets/controls",
          "model_name": "ProgressStyleModel",
          "model_module_version": "1.5.0",
          "state": {
            "_model_module": "@jupyter-widgets/controls",
            "_model_module_version": "1.5.0",
            "_model_name": "ProgressStyleModel",
            "_view_count": null,
            "_view_module": "@jupyter-widgets/base",
            "_view_module_version": "1.2.0",
            "_view_name": "StyleView",
            "bar_color": null,
            "description_width": ""
          }
        },
        "6f2dae00968b4f26bc6660c671f88a46": {
          "model_module": "@jupyter-widgets/base",
          "model_name": "LayoutModel",
          "model_module_version": "1.2.0",
          "state": {
            "_model_module": "@jupyter-widgets/base",
            "_model_module_version": "1.2.0",
            "_model_name": "LayoutModel",
            "_view_count": null,
            "_view_module": "@jupyter-widgets/base",
            "_view_module_version": "1.2.0",
            "_view_name": "LayoutView",
            "align_content": null,
            "align_items": null,
            "align_self": null,
            "border": null,
            "bottom": null,
            "display": null,
            "flex": null,
            "flex_flow": null,
            "grid_area": null,
            "grid_auto_columns": null,
            "grid_auto_flow": null,
            "grid_auto_rows": null,
            "grid_column": null,
            "grid_gap": null,
            "grid_row": null,
            "grid_template_areas": null,
            "grid_template_columns": null,
            "grid_template_rows": null,
            "height": null,
            "justify_content": null,
            "justify_items": null,
            "left": null,
            "margin": null,
            "max_height": null,
            "max_width": null,
            "min_height": null,
            "min_width": null,
            "object_fit": null,
            "object_position": null,
            "order": null,
            "overflow": null,
            "overflow_x": null,
            "overflow_y": null,
            "padding": null,
            "right": null,
            "top": null,
            "visibility": null,
            "width": null
          }
        },
        "e2be912d8df94212ba32348fb40a9616": {
          "model_module": "@jupyter-widgets/controls",
          "model_name": "DescriptionStyleModel",
          "model_module_version": "1.5.0",
          "state": {
            "_model_module": "@jupyter-widgets/controls",
            "_model_module_version": "1.5.0",
            "_model_name": "DescriptionStyleModel",
            "_view_count": null,
            "_view_module": "@jupyter-widgets/base",
            "_view_module_version": "1.2.0",
            "_view_name": "StyleView",
            "description_width": ""
          }
        }
      }
    },
    "accelerator": "GPU"
  },
  "cells": [
    {
      "cell_type": "markdown",
      "metadata": {
        "id": "view-in-github",
        "colab_type": "text"
      },
      "source": [
        "<a href=\"https://colab.research.google.com/github/fsoaresantos/finetuning-resnet18-with-Google-Colab/blob/main/finetuning_resnet18_googlecolab.ipynb\" target=\"_parent\"><img src=\"https://colab.research.google.com/assets/colab-badge.svg\" alt=\"Open In Colab\"/></a>"
      ]
    },
    {
      "cell_type": "markdown",
      "source": [
        "# **FINETUNING Resnet-18 with Google Colab**"
      ],
      "metadata": {
        "id": "hjzFTtAovHKW"
      }
    },
    {
      "cell_type": "markdown",
      "source": [
        "## 1) Enable GPU for the notebook:\n",
        "\n",
        "1.   Navigate to *Runtime→Change runtime type*\n",
        "\n",
        "2.   select *GPU* from the Hardware Accelerator drop-down list\n",
        "\n",
        "3.   save"
      ],
      "metadata": {
        "id": "dEysxDhFmUI9"
      }
    },
    {
      "cell_type": "markdown",
      "source": [
        "## 2) verify if GPU is available and print device"
      ],
      "metadata": {
        "id": "FkRY-XT_hNST"
      }
    },
    {
      "cell_type": "code",
      "source": [
        "import torch\n",
        "\n",
        "device = torch.device(\"cuda\" if torch.cuda.is_available() else \"cpu\")\n",
        "print(f\"Running on device {device}\")"
      ],
      "metadata": {
        "id": "UhKQX6SD3-H9",
        "colab": {
          "base_uri": "https://localhost:8080/"
        },
        "outputId": "d919fe50-0317-4de8-cd38-d9b1f58314f0"
      },
      "execution_count": 2,
      "outputs": [
        {
          "output_type": "stream",
          "name": "stdout",
          "text": [
            "Running on device cuda\n"
          ]
        }
      ]
    },
    {
      "cell_type": "markdown",
      "source": [
        "## 3) Data preprocessing\n",
        "*    download CIFAR-10 dataset from {torchvision.datasets},\n",
        "*    apply data transformation with {torchvision.transforms},\n",
        "*    parallelize data loading with {torch.utils.data.DataLoader}"
      ],
      "metadata": {
        "id": "nMRpc5MdiXA-"
      }
    },
    {
      "cell_type": "code",
      "source": [
        "from torchvision import datasets, models, transforms\n",
        "from torch.utils.data import DataLoader\n",
        "\n",
        "# number of images in each batch\n",
        "batch_size=64\n",
        "\n",
        "mean=[0.485, 0.456, 0.406]\n",
        "std=[0.229, 0.224, 0.225]\n",
        "\n",
        "# define train and test data transforms\n",
        "training_transform = transforms.Compose([\n",
        "    transforms.RandomHorizontalFlip(p=0.5),\n",
        "    transforms.Resize(224),\n",
        "    transforms.ToTensor(),\n",
        "    transforms.Normalize(mean=mean, std=std)])\n",
        "\n",
        "testing_transform = transforms.Compose([\n",
        "    #transforms.RandomResizedCrop(224),\n",
        "    transforms.Resize(224),\n",
        "    transforms.ToTensor(),\n",
        "    transforms.Normalize(mean=mean, std=std)])\n",
        "\n",
        "# download, transform images, and parallelize the data loading (DataLoader)\n",
        "trainset = datasets.CIFAR10(root='./data', train=True,\n",
        "        download=True, transform=training_transform)\n",
        "\n",
        "trainloader = DataLoader(trainset, batch_size=batch_size,\n",
        "        shuffle=True)\n",
        "\n",
        "testset = datasets.CIFAR10(root='./data', train=False,\n",
        "        download=True, transform=testing_transform)\n",
        "\n",
        "testloader = DataLoader(testset, batch_size=batch_size,\n",
        "        shuffle=False)\n"
      ],
      "metadata": {
        "id": "teXS-MjnvXdu",
        "colab": {
          "base_uri": "https://localhost:8080/",
          "height": 101,
          "referenced_widgets": [
            "81fba8d24d4a48e98d9b732f8e3bae61",
            "83d5e5bd28dc40fe8736cd0e8c0b1349",
            "bb0c7ee82c9544cba9fb73c6a614eb19",
            "dcb43041d707456db77217f2a031521f",
            "54e7c3f593204f99a8c7dd453abf083f",
            "74b2e859a37f46f68c4fb145b91172c2",
            "1d12bdd47b0b4897a8dbd069bc9327b3",
            "1cfd8a0c646c43728d0b50bcb72fe715",
            "faa030f323064eb68390fe271b628c47",
            "6f2dae00968b4f26bc6660c671f88a46",
            "e2be912d8df94212ba32348fb40a9616"
          ]
        },
        "outputId": "a523e917-d2ac-4106-9fbb-3287836cf3a1"
      },
      "execution_count": 3,
      "outputs": [
        {
          "output_type": "stream",
          "name": "stdout",
          "text": [
            "Downloading https://www.cs.toronto.edu/~kriz/cifar-10-python.tar.gz to ./data/cifar-10-python.tar.gz\n"
          ]
        },
        {
          "output_type": "display_data",
          "data": {
            "text/plain": [
              "  0%|          | 0/170498071 [00:00<?, ?it/s]"
            ],
            "application/vnd.jupyter.widget-view+json": {
              "version_major": 2,
              "version_minor": 0,
              "model_id": "81fba8d24d4a48e98d9b732f8e3bae61"
            }
          },
          "metadata": {}
        },
        {
          "output_type": "stream",
          "name": "stdout",
          "text": [
            "Extracting ./data/cifar-10-python.tar.gz to ./data\n",
            "Files already downloaded and verified\n"
          ]
        }
      ]
    },
    {
      "cell_type": "markdown",
      "source": [
        "## 4) Define Test and Train functions"
      ],
      "metadata": {
        "id": "1vEF-oJWoc3k"
      }
    },
    {
      "cell_type": "markdown",
      "source": [
        "### Test function"
      ],
      "metadata": {
        "id": "JO5efjfV9SNx"
      }
    },
    {
      "cell_type": "code",
      "source": [
        "##from IPython.core.debugger import set_trace ## python package for debugging\n",
        "\n",
        "def test(model, test_loader, criterion):\n",
        "\n",
        "    # set the network into evaluation mode\n",
        "    model.eval() # because finetuning\n",
        "\n",
        "    running_loss=0\n",
        "    running_corrects=0\n",
        "    \n",
        "    with torch.no_grad():\n",
        "        for batch_n, (inputs, labels) in enumerate(test_loader, 1):\n",
        "            outputs = model(inputs)\n",
        "            loss = criterion(outputs, labels)\n",
        "\n",
        "            # grab the index (i.e. the class) with the highest probability value for each image within the batch\n",
        "            _, preds = torch.max(outputs, 1)\n",
        "            \n",
        "            running_loss += loss.item()\n",
        "            running_corrects += torch.sum(preds == labels.data).item()\n",
        "\n",
        "            #print(f\"Batch: {batch_n}/{len(test_loader)}  Batch loss : {loss.item()}\")\n",
        "\n",
        "        total_loss = running_loss / len(test_loader.dataset)\n",
        "        total_acc = 100*(running_corrects / len(test_loader.dataset))\n",
        "        print(f\"Test Loss {total_loss}, \\ Test Accuracy {total_acc}%\")\n",
        "\n"
      ],
      "metadata": {
        "id": "Pc2XjXgjmMNp"
      },
      "execution_count": null,
      "outputs": []
    },
    {
      "cell_type": "markdown",
      "source": [
        "### Train function"
      ],
      "metadata": {
        "id": "THz1PtuLpJWr"
      }
    },
    {
      "cell_type": "code",
      "source": [
        "def train(model, train_loader, validation_loader, criterion, optimizer):\n",
        "    epochs=5 #10\n",
        "    best_loss=1e-6\n",
        "    image_dataset={'train':train_loader, 'valid':validation_loader}\n",
        "\n",
        "    \"\"\"\n",
        "    print(len(image_dataset['train'].dataset), '\\n') # 50000 # datasets size\n",
        "    print(len(image_dataset['train']))               # 782 # loader size (datasets size/batch_size)\n",
        "    \"\"\"\n",
        "\n",
        "    iter_loss = 0\n",
        "    for epoch in range(epochs): # iterations trough the train and validation datasets\n",
        "        for phase in ['train', 'valid']:\n",
        "            print(f\"Epoch {epoch+1}, Phase {phase}\")\n",
        "            if phase =='train':\n",
        "                # set model to train mode (finetuning)\n",
        "                model.train()\n",
        "            else:\n",
        "                # otherwise, validation: set model to eval mode (finetuning)\n",
        "                model.eval()\n",
        "            \n",
        "            correction = 0\n",
        "            loss_counter = 0\n",
        "\n",
        "            # training loop: iterations trough the batchs\n",
        "            for batch_n, (data, target) in enumerate(image_dataset[phase], 1):\n",
        "                # send data and target to GPU\n",
        "                data = data.to(device)\n",
        "                target = target.to(device)\n",
        "                \n",
        "                # zero the weights (parameters) gradients for each batch of data\n",
        "                optimizer.zero_grad()\n",
        "                \n",
        "                # enable gradients for training only\n",
        "                with torch.set_grad_enabled(phase == 'train'):\n",
        "                    # forward pass\n",
        "                    outp = model(data)\n",
        "                    # calculate the loss: returns the weighted mean\n",
        "                    loss = criterion(outp, target)\n",
        "\n",
        "                    if phase == 'train':\n",
        "                        # backward pass: compute gradients of the loss with regard to parameters\n",
        "                        loss.backward()\n",
        "                        # update weights\n",
        "                        optimizer.step()\n",
        "                    \n",
        "                    # grab the classes (as indexes) with the highest prediction probability for each image\n",
        "                    pred = torch.argmax(input=outp, dim=1)\n",
        "\n",
        "                # statistics\n",
        "                loss_counter += loss.item() # batch loss: item() returns a Python scalar\n",
        "                correction += torch.sum(pred==target.data).item() # get the number of correct predictions\n",
        "\n",
        "                #print(f\"Epoch({epoch+1}/{epochs} : Batch number({batch_n}/{len(image_dataset[phase])})  Batch loss : {loss.item()}\")\n",
        "\n",
        "            # print statistics for each phase and epoch\n",
        "            iter_acc = 100*(correction/len(image_dataset[phase].dataset))\n",
        "            iter_loss = loss_counter/len(image_dataset[phase].dataset)\n",
        "            print(f\"Iter. Loss {iter_loss}, \\ Iter. Accuracy {iter_acc}% \\n\")\n",
        "\n",
        "            # track best accuracy\n",
        "            if phase == 'valid' and iter_loss < best_loss:\n",
        "                best_loss = iter_loss\n",
        "\n",
        "        # stops training if validation accuracy stops increasing\n",
        "        if best_loss == iter_loss:\n",
        "            break\n",
        "\n",
        "\n"
      ],
      "metadata": {
        "id": "MWu6UloQpHO3"
      },
      "execution_count": null,
      "outputs": []
    },
    {
      "cell_type": "markdown",
      "source": [
        "## 5) Create pretrained model\n",
        "Two approaches:\n",
        "1. to train only the last fully connected layer\n",
        "2. to train from the last CNN block onwards"
      ],
      "metadata": {
        "id": "XVW4rZnqpUuh"
      }
    },
    {
      "cell_type": "markdown",
      "source": [
        "### 5.1- By replacing the last fully connected layer"
      ],
      "metadata": {
        "id": "6pS0ME4xL-12"
      }
    },
    {
      "cell_type": "code",
      "source": [
        "import torch.nn as nn\n",
        "\n",
        "def create_model_fc():\n",
        "    # download pretrained resnet18 model\n",
        "    model = models.resnet18(pretrained = True)\n",
        "\n",
        "    # print original model and the last fc layer\n",
        "    #print(model)\n",
        "    print(\"FULLY CONNECTED LAYER OF ORIGINAL MODEL:\")\n",
        "    print(model.fc)\n",
        "    \n",
        "    # freeze all the pre-trained layers\n",
        "    for param in model.parameters():\n",
        "        param.requires_grad = False\n",
        "    \n",
        "    # get the numbers of input features in the last fully connected layer\n",
        "    num_features = model.fc.in_features\n",
        "    \n",
        "    # replace the last fully connected layer\n",
        "    model.fc = nn.Sequential(nn.Linear(in_features = num_features, out_features = 10))\n",
        "\n",
        "    # print modified fc model layer\n",
        "    print(\"\\nMODIFIED FULLY CONNECTED LAYER:\")\n",
        "    print(model.fc)\n",
        "\n",
        "    return model\n",
        "\n"
      ],
      "metadata": {
        "id": "sgHy2WeApRB4"
      },
      "execution_count": null,
      "outputs": []
    },
    {
      "cell_type": "markdown",
      "source": [
        "### 5.2- By unfreezing from the last CNN block onwards"
      ],
      "metadata": {
        "id": "aBMRN_xIXDRn"
      }
    },
    {
      "cell_type": "code",
      "source": [
        "import torch.nn as nn\n",
        "\n",
        "def create_model_lastcnn():\n",
        "    # download pretrained resnet18 model\n",
        "    model = models.resnet18(pretrained = True)\n",
        "\n",
        "    # Print original model, the last CNN layer, and the last fc layer\n",
        "    #print(model)\n",
        "    print(\"MODEL LAYER4:\")\n",
        "    print(model.layer4)\n",
        "    print(\"\\nFULLY CONNECTED LAYER ORIGINAL MODEL:\")\n",
        "    print(model.fc)\n",
        "    \n",
        "    # freeze all the pre-trained layers\n",
        "    for param in model.parameters():\n",
        "        param.requires_grad = False\n",
        "\n",
        "    # unfreeze the last block of convolutional layers\n",
        "    model.layer4[0].conv1.requires_grad = True\n",
        "    model.layer4[0].bn1.requires_grad = True\n",
        "    model.layer4[0].relu.requires_grad = True\n",
        "    model.layer4[0].conv2.requires_grad = True\n",
        "    model.layer4[0].bn2.requires_grad = True\n",
        "    model.layer4[0].downsample[0].requires_grad = True\n",
        "    model.layer4[0].downsample[1].requires_grad = True\n",
        "    model.layer4[1].conv1.requires_grad = True\n",
        "    model.layer4[1].bn1.requires_grad = True\n",
        "    model.layer4[1].relu.requires_grad = True\n",
        "    model.layer4[1].conv2.requires_grad = True\n",
        "    model.layer4[1].bn2.requires_grad = True\n",
        "    \n",
        "    # get the numbers of input features in the last fully connected layer\n",
        "    num_features = model.fc.in_features\n",
        "    \n",
        "    # replace the last fully connected layer\n",
        "    model.fc = nn.Sequential(nn.Linear(in_features = num_features, out_features = 10))\n",
        "\n",
        "    # print modified fc model layer\n",
        "    print(\"\\nMODIFIED FULLY CONNECTED LAYER:\")\n",
        "    print(model.fc)\n",
        "\n",
        "    return model\n"
      ],
      "metadata": {
        "id": "7YfKcsEWprZT"
      },
      "execution_count": null,
      "outputs": []
    },
    {
      "cell_type": "markdown",
      "source": [
        "## 6) main code: trainning the model"
      ],
      "metadata": {
        "id": "nPCNalA_ptw3"
      }
    },
    {
      "cell_type": "markdown",
      "source": [
        "### 6.1- call function to create the pretrained model (choose one of the approaches above)"
      ],
      "metadata": {
        "id": "Y3--lKX_O7Pd"
      }
    },
    {
      "cell_type": "code",
      "source": [
        "# run this cell if you chose approach 1\n",
        "model=create_model_fc()"
      ],
      "metadata": {
        "colab": {
          "base_uri": "https://localhost:8080/"
        },
        "id": "wzTrmIOHpqjM",
        "outputId": "3fc065f3-cefe-4ca5-b183-8f760e201794"
      },
      "execution_count": null,
      "outputs": [
        {
          "output_type": "stream",
          "name": "stdout",
          "text": [
            "FULLY CONNECTED LAYER OF ORIGINAL MODEL:\n",
            "Linear(in_features=512, out_features=1000, bias=True)\n",
            "\n",
            "MODIFIED FULLY CONNECTED LAYER:\n",
            "Sequential(\n",
            "  (0): Linear(in_features=512, out_features=10, bias=True)\n",
            ")\n"
          ]
        }
      ]
    },
    {
      "cell_type": "code",
      "source": [
        "# OR, run this cell if you chose approach 2\n",
        "model=create_model_lastcnn()"
      ],
      "metadata": {
        "colab": {
          "base_uri": "https://localhost:8080/"
        },
        "id": "xm50ouCvKdFD",
        "outputId": "b6ea05f3-2a4b-4e4f-8553-fed36b496e25"
      },
      "execution_count": null,
      "outputs": [
        {
          "output_type": "stream",
          "name": "stdout",
          "text": [
            "MODEL LAYER4:\n",
            "Sequential(\n",
            "  (0): BasicBlock(\n",
            "    (conv1): Conv2d(256, 512, kernel_size=(3, 3), stride=(2, 2), padding=(1, 1), bias=False)\n",
            "    (bn1): BatchNorm2d(512, eps=1e-05, momentum=0.1, affine=True, track_running_stats=True)\n",
            "    (relu): ReLU(inplace=True)\n",
            "    (conv2): Conv2d(512, 512, kernel_size=(3, 3), stride=(1, 1), padding=(1, 1), bias=False)\n",
            "    (bn2): BatchNorm2d(512, eps=1e-05, momentum=0.1, affine=True, track_running_stats=True)\n",
            "    (downsample): Sequential(\n",
            "      (0): Conv2d(256, 512, kernel_size=(1, 1), stride=(2, 2), bias=False)\n",
            "      (1): BatchNorm2d(512, eps=1e-05, momentum=0.1, affine=True, track_running_stats=True)\n",
            "    )\n",
            "  )\n",
            "  (1): BasicBlock(\n",
            "    (conv1): Conv2d(512, 512, kernel_size=(3, 3), stride=(1, 1), padding=(1, 1), bias=False)\n",
            "    (bn1): BatchNorm2d(512, eps=1e-05, momentum=0.1, affine=True, track_running_stats=True)\n",
            "    (relu): ReLU(inplace=True)\n",
            "    (conv2): Conv2d(512, 512, kernel_size=(3, 3), stride=(1, 1), padding=(1, 1), bias=False)\n",
            "    (bn2): BatchNorm2d(512, eps=1e-05, momentum=0.1, affine=True, track_running_stats=True)\n",
            "  )\n",
            ")\n",
            "\n",
            "FULLY CONNECTED LAYER ORIGINAL MODEL:\n",
            "Linear(in_features=512, out_features=1000, bias=True)\n",
            "\n",
            "MODIFIED FULLY CONNECTED LAYER:\n",
            "Sequential(\n",
            "  (0): Linear(in_features=512, out_features=10, bias=True)\n",
            ")\n"
          ]
        }
      ]
    },
    {
      "cell_type": "markdown",
      "source": [
        "### 6.2.1- train the model with a **fixed learning rate**"
      ],
      "metadata": {
        "id": "kDQr8FMoui_C"
      }
    },
    {
      "cell_type": "code",
      "source": [
        "import torch.optim as optim\n",
        "\n",
        "# send model to device\n",
        "model = model.to(device)\n",
        "\n",
        "# define fixed learning rate\n",
        "learning_rate = 0.0001\n",
        "\n",
        "# define criteria for the loss function\n",
        "criterion = nn.CrossEntropyLoss()\n",
        "\n",
        "# define optimization criteria (to update the weights)\n",
        "# take as arguments only the parameters with requires_grad set to True\n",
        "#optimizer = optim.Adam(model.parameters(), lr=learning_rate) #OR more general as bellow\n",
        "optimizer = optim.Adam(filter(lambda p: p.requires_grad, model.parameters()), lr=learning_rate)\n",
        "\n",
        "# train\n",
        "train(model, trainloader, testloader, criterion, optimizer)\n",
        "\n",
        "# send model back to cpu\n",
        "model = model.to('cpu')\n",
        "\n",
        "# deploy\n",
        "test(model, testloader, criterion)\n"
      ],
      "metadata": {
        "id": "zAY2--shpTMf",
        "colab": {
          "base_uri": "https://localhost:8080/"
        },
        "outputId": "10df2ff2-fca4-4858-f75d-665187b6936c"
      },
      "execution_count": null,
      "outputs": [
        {
          "output_type": "stream",
          "name": "stdout",
          "text": [
            "Epoch 1, Phase train\n",
            "Iter. Loss 0.024097447704076767, \\ Iter. Accuracy 53.80200000000001% \n",
            "\n",
            "Epoch 1, Phase valid\n",
            "Iter. Loss 0.016915638345479964, \\ Iter. Accuracy 71.23% \n",
            "\n",
            "Epoch 2, Phase train\n",
            "Iter. Loss 0.014850907406806946, \\ Iter. Accuracy 73.134% \n",
            "\n",
            "Epoch 2, Phase valid\n",
            "Iter. Loss 0.013161086034774781, \\ Iter. Accuracy 75.27000000000001% \n",
            "\n",
            "Epoch 3, Phase train\n",
            "Iter. Loss 0.012502599509954453, \\ Iter. Accuracy 75.554% \n",
            "\n",
            "Epoch 3, Phase valid\n",
            "Iter. Loss 0.01173454202413559, \\ Iter. Accuracy 77.03% \n",
            "\n",
            "Epoch 4, Phase train\n",
            "Iter. Loss 0.011414174692034722, \\ Iter. Accuracy 76.956% \n",
            "\n",
            "Epoch 4, Phase valid\n",
            "Iter. Loss 0.010979181689023971, \\ Iter. Accuracy 77.8% \n",
            "\n",
            "Epoch 5, Phase train\n",
            "Iter. Loss 0.010814095015525818, \\ Iter. Accuracy 77.652% \n",
            "\n",
            "Epoch 5, Phase valid\n",
            "Iter. Loss 0.010369885385036469, \\ Iter. Accuracy 78.64% \n",
            "\n",
            "Test Loss 0.01036988283097744, \\ Test Accuracy 78.64%\n"
          ]
        }
      ]
    },
    {
      "cell_type": "markdown",
      "source": [
        "### 6.2.2- train the model with **discriminative learning rates**"
      ],
      "metadata": {
        "id": "Da4QfzhSkpeF"
      }
    },
    {
      "cell_type": "code",
      "source": [
        "%%time\n",
        "import torch.optim as optim\n",
        "\n",
        "# move the model to GPU memory\n",
        "model = model.to(device)\n",
        "\n",
        "# define criteria for the loss function\n",
        "criterion = nn.CrossEntropyLoss()\n",
        "\n",
        "lrcnn=1e-3\n",
        "# define optimization criteria (with differential learning rates) to convolutional layers\n",
        "optimizer = optim.Adam(model.layer4[0].conv1.parameters(), lr=lrcnn)\n",
        "optimizer = optim.Adam(model.layer4[0].conv2.parameters(), lr=lrcnn*3)\n",
        "optimizer = optim.Adam(model.layer4[1].conv1.parameters(), lr=lrcnn*6)\n",
        "optimizer = optim.Adam(model.layer4[1].conv2.parameters(), lr=lrcnn*9)\n",
        "optimizer = optim.Adam(model.fc.parameters(), lr=lrcnn*12)\n",
        "\n",
        "# train\n",
        "train(model, trainloader, testloader, criterion, optimizer)\n",
        "\n",
        "# send model back to cpu\n",
        "model = model.to('cpu')\n",
        "\n",
        "# deploy\n",
        "test(model, testloader, criterion)\n"
      ],
      "metadata": {
        "colab": {
          "base_uri": "https://localhost:8080/"
        },
        "id": "LY94dNLGuoGq",
        "outputId": "a963505f-ec5e-4a94-b133-c7d5cd3cdecf"
      },
      "execution_count": null,
      "outputs": [
        {
          "output_type": "stream",
          "name": "stdout",
          "text": [
            "Epoch 1, Phase train\n",
            "Iter. Loss 0.014078942022323609, \\ Iter. Accuracy 72.58% \n",
            "\n",
            "Epoch 1, Phase valid\n",
            "Iter. Loss 0.013729903855919838, \\ Iter. Accuracy 75.53% \n",
            "\n",
            "Epoch 2, Phase train\n",
            "Iter. Loss 0.01341783406496048, \\ Iter. Accuracy 75.454% \n",
            "\n",
            "Epoch 2, Phase valid\n",
            "Iter. Loss 0.01297529845237732, \\ Iter. Accuracy 76.9% \n",
            "\n",
            "Epoch 3, Phase train\n",
            "Iter. Loss 0.013608371386528016, \\ Iter. Accuracy 75.97% \n",
            "\n",
            "Epoch 3, Phase valid\n",
            "Iter. Loss 0.01738365305662155, \\ Iter. Accuracy 72.09% \n",
            "\n",
            "Epoch 4, Phase train\n",
            "Iter. Loss 0.014194624336957931, \\ Iter. Accuracy 75.67399999999999% \n",
            "\n",
            "Epoch 4, Phase valid\n",
            "Iter. Loss 0.012631670363247395, \\ Iter. Accuracy 77.62% \n",
            "\n",
            "Epoch 5, Phase train\n",
            "Iter. Loss 0.014663401660621167, \\ Iter. Accuracy 75.596% \n",
            "\n",
            "Epoch 5, Phase valid\n",
            "Iter. Loss 0.012476409056782722, \\ Iter. Accuracy 78.64999999999999% \n",
            "\n",
            "Test Loss 0.012476408272981644, \\ Test Accuracy 78.64999999999999%\n",
            "CPU times: user 30min 47s, sys: 34 s, total: 31min 21s\n",
            "Wall time: 31min 14s\n"
          ]
        }
      ]
    },
    {
      "cell_type": "markdown",
      "source": [
        "### 7) Visualization: visualizing predicted images"
      ],
      "metadata": {
        "id": "TSXqecgNZEps"
      }
    },
    {
      "cell_type": "code",
      "source": [
        "import matplotlib.pyplot as plt\n",
        "%matplotlib inline\n",
        "import numpy as np"
      ],
      "metadata": {
        "id": "RrMZlIa8mmIV"
      },
      "execution_count": null,
      "outputs": []
    },
    {
      "cell_type": "code",
      "source": [
        "# select an image id ranging from 0 to 63 (len(pred)-1)\n",
        "test_image_id=23\n",
        "\n",
        "def denormalize(tensor):\n",
        "  \"\"\" because images were normalized in the processing step \"\"\"\n",
        "  tensor = tensor*std+ mean\n",
        "  return tensor\n",
        "\n",
        "def show_img(img):\n",
        "  \"\"\" 1) image should be transposed because matplotlib.imshow expects\n",
        "  the image to be in array shape (row, column, number of chanels); \n",
        "  2) denormalize;\n",
        "  3) finally images should be clipped to assume values between 0 and 1\n",
        "  for row and column \"\"\"\n",
        "  img = img.numpy().transpose((1,2,0))\n",
        "  img = denormalize(img)\n",
        "  img = np.clip(img,0,1)\n",
        "  plt.imshow(img)\n",
        "  \n",
        "def get_CIFAR10_class(id):\n",
        "  CIFAR10_classes = ['plane', 'car', 'bird', 'cat',\n",
        "           'deer', 'dog', 'frog', 'horse', 'ship', 'truck']\n",
        "  return CIFAR10_classes[id]\n",
        "\n",
        "show_img(images[test_image_id])\n",
        "print(get_CIFAR10_class(pred[test_image_id]))"
      ],
      "metadata": {
        "id": "AomJD-c8ggbS",
        "colab": {
          "base_uri": "https://localhost:8080/",
          "height": 286
        },
        "outputId": "83f3bcd6-637c-4f45-9b35-cb09cb342da3"
      },
      "execution_count": null,
      "outputs": [
        {
          "output_type": "stream",
          "name": "stdout",
          "text": [
            "truck\n"
          ]
        },
        {
          "output_type": "display_data",
          "data": {
            "text/plain": [
              "<Figure size 432x288 with 1 Axes>"
            ],
            "image/png": "[encoded data removed]"
          },
          "metadata": {
            "needs_background": "light"
          }
        }
      ]
    },
    {
      "cell_type": "code",
      "source": [
        ""
      ],
      "metadata": {
        "id": "SX9siTwHVDd0"
      },
      "execution_count": null,
      "outputs": []
    },
    {
      "cell_type": "markdown",
      "source": [
        "# References:\n",
        "\n",
        "*   Transfer Learning for Images Using PyTorch: Essential Training. By Jonathan Fernandes - LinkedIn\n",
        "*   WELCOME TO PYTORCH TUTORIALS. https://pytorch.org/tutorials/\n",
        "*   How to use a DataLoader in PyTorch? https://www.geeksforgeeks.org/\n",
        "*   AWS Machine Learning Engineer Nanodegree - Udacity"
      ],
      "metadata": {
        "id": "xRMgJwDmnB1K"
      }
    },
    {
      "cell_type": "code",
      "source": [
        ""
      ],
      "metadata": {
        "id": "_vUEL_V_rLTG"
      },
      "execution_count": null,
      "outputs": []
    }
  ]
}